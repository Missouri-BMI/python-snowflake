{
 "cells": [
  {
   "cell_type": "code",
   "execution_count": 2,
   "metadata": {},
   "outputs": [],
   "source": [
    "from sqlalchemy import create_engine \n",
    "import snowflake.connector\n",
    "from snowflake.sqlalchemy import URL \n",
    "from sqlalchemy.sql import text\n",
    "from dotenv import dotenv_values"
   ]
  },
  {
   "cell_type": "code",
   "execution_count": null,
   "metadata": {},
   "outputs": [],
   "source": [
    "# Load environment variables\n",
    "\n",
    "args = dotenv_values(\".env\")\n",
    "# SNOWFLAKE_ACCOUNT=<your_account>\n",
    "# SNOWFLAKE_USER=<your_username>\n",
    "# SNOWFLAKE_ROLE=<your_role>\n",
    "# SNOWFLAKE_WAREHOUSE=<your_warehouse>\n",
    "# SNOWFLAKE_DATABASE=<your_database>\n",
    "# SNOWFLAKE_SCHEMA=<your_schema>"
   ]
  },
  {
   "cell_type": "code",
   "execution_count": 3,
   "metadata": {},
   "outputs": [],
   "source": [
    "# Define Snowflake connection parameters\n",
    "url = URL(\n",
    "        account=args['SNOWFLAKE_ACCOUNT'],  # e.g., 'xy12345.us-east-2.aws'\n",
    "        user=args['SNOWFLAKE_USER'],\n",
    "        warehouse=args['SNOWFLAKE_WAREHOUSE'],\n",
    "        database=args['SNOWFLAKE_DATABASE'],\n",
    "        schema=args['SNOWFLAKE_SCHEMA'],\n",
    "        role=args['SNOWFLAKE_ROLE'],\n",
    "        authenticator='externalbrowser',  # Enables browser-based SSO authentication\n",
    "    )\n",
    "engine = create_engine(url)\n",
    "\n",
    "# Establish connection\n",
    "try:\n",
    "    connection = engine.connect()\n",
    "    \n",
    "    query = text('select current_version()')\n",
    "    results = connection.execute(query).fetchone()\n",
    "    print(results[0])\n",
    "finally:\n",
    "    connection.close()\n",
    "    engine.dispose()\n"
   ]
  },
  {
   "cell_type": "code",
   "execution_count": 4,
   "metadata": {},
   "outputs": [],
   "source": [
    "# Define connection parameters\n",
    "conn = snowflake.connector.connect(\n",
    "        account=args['SNOWFLAKE_ACCOUNT'],  # e.g., 'xy12345.us-east-2.aws'\n",
    "        user=args['SNOWFLAKE_USER'],\n",
    "        warehouse=args['SNOWFLAKE_WAREHOUSE'],\n",
    "        database=args['SNOWFLAKE_DATABASE'],\n",
    "        schema=args['SNOWFLAKE_SCHEMA'],\n",
    "        role=args['SNOWFLAKE_ROLE'],\n",
    "        authenticator='externalbrowser',  # Enables browser-based SSO authentication\n",
    ")\n",
    "\n",
    "# Execute a query\n",
    "cur = conn.cursor()\n",
    "cur.execute(\"select current_version()\")\n",
    "\n",
    "# Fetch results\n",
    "results = cur.fetchall()\n",
    "print(results)\n",
    "\n",
    "# Close the connection\n",
    "cur.close()\n",
    "conn.close()"
   ]
  }
 ],
 "metadata": {
  "kernelspec": {
   "display_name": "Python 3 (ipykernel)",
   "language": "python",
   "name": "python3"
  }
 },
 "nbformat": 4,
 "nbformat_minor": 2
}
